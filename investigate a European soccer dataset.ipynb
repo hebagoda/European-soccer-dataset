{
 "cells": [
  {
   "cell_type": "markdown",
   "metadata": {},
   "source": [
    "\n",
    "\n",
    "# Project: Investigate a  European Soccer Database\n",
    "\n",
    "## Table of Contents\n",
    "<ul>\n",
    "<li><a href=\"#intro\">Introduction</a></li>\n",
    "<li><a href=\"#wrangling\">Data Wrangling</a></li>\n",
    "<li><a href=\"#eda\">Exploratory Data Analysis</a></li>\n",
    "<li><a href=\"#conclusions\">Conclusions</a></li>\n",
    "</ul>"
   ]
  },
  {
   "cell_type": "markdown",
   "metadata": {},
   "source": [
    "<a id='intro'></a>\n",
    "## Introduction\n",
    "\n"
   ]
  },
  {
   "cell_type": "code",
   "execution_count": 1,
   "metadata": {},
   "outputs": [],
   "source": [
    "#import the packages\n",
    "import pandas as pd\n",
    "import numpy as np\n",
    "from matplotlib import pyplot as plt\n",
    "import sqlite3 as sq\n",
    "from bs4 import BeautifulSoup\n",
    "%matplotlib inline"
   ]
  },
  {
   "cell_type": "markdown",
   "metadata": {},
   "source": [
    "<a id='wrangling'></a>\n",
    "## Data Wrangling\n",
    "\n",
    "\n",
    "<ul>\n",
    "<li><a href=\"#gather\">Gathering</a></li>\n",
    "<li><a href=\"#assess\">Assessind</a></li>    \n",
    "<li><a href=\"#clean\">Cleaning</a></li>\n",
    "</ul>"
   ]
  },
  {
   "cell_type": "markdown",
   "metadata": {},
   "source": [
    "<a id='gather'></a>\n",
    "# Gathering Data \n",
    "### phase 1 of data wrangling"
   ]
  },
  {
   "cell_type": "code",
   "execution_count": 2,
   "metadata": {},
   "outputs": [
    {
     "data": {
      "text/html": [
       "<div>\n",
       "<style scoped>\n",
       "    .dataframe tbody tr th:only-of-type {\n",
       "        vertical-align: middle;\n",
       "    }\n",
       "\n",
       "    .dataframe tbody tr th {\n",
       "        vertical-align: top;\n",
       "    }\n",
       "\n",
       "    .dataframe thead th {\n",
       "        text-align: right;\n",
       "    }\n",
       "</style>\n",
       "<table border=\"1\" class=\"dataframe\">\n",
       "  <thead>\n",
       "    <tr style=\"text-align: right;\">\n",
       "      <th></th>\n",
       "      <th>id</th>\n",
       "      <th>name</th>\n",
       "    </tr>\n",
       "  </thead>\n",
       "  <tbody>\n",
       "    <tr>\n",
       "      <th>0</th>\n",
       "      <td>1</td>\n",
       "      <td>Belgium</td>\n",
       "    </tr>\n",
       "    <tr>\n",
       "      <th>1</th>\n",
       "      <td>1729</td>\n",
       "      <td>England</td>\n",
       "    </tr>\n",
       "  </tbody>\n",
       "</table>\n",
       "</div>"
      ],
      "text/plain": [
       "     id     name\n",
       "0     1  Belgium\n",
       "1  1729  England"
      ]
     },
     "execution_count": 2,
     "metadata": {},
     "output_type": "execute_result"
    }
   ],
   "source": [
    "#make a connection with sqlite database\n",
    "conn=sq.connect('database.sqlite')\n",
    "# type a quuery to select all columns and rows to store them in dataframe\n",
    "df_country=pd.read_sql_query('select * from Country',conn)\n",
    "#show the first two obesrvations from a table\n",
    "df_country.head(2)"
   ]
  },
  {
   "cell_type": "code",
   "execution_count": 3,
   "metadata": {},
   "outputs": [
    {
     "data": {
      "text/html": [
       "<div>\n",
       "<style scoped>\n",
       "    .dataframe tbody tr th:only-of-type {\n",
       "        vertical-align: middle;\n",
       "    }\n",
       "\n",
       "    .dataframe tbody tr th {\n",
       "        vertical-align: top;\n",
       "    }\n",
       "\n",
       "    .dataframe thead th {\n",
       "        text-align: right;\n",
       "    }\n",
       "</style>\n",
       "<table border=\"1\" class=\"dataframe\">\n",
       "  <thead>\n",
       "    <tr style=\"text-align: right;\">\n",
       "      <th></th>\n",
       "      <th>id</th>\n",
       "      <th>country_id</th>\n",
       "      <th>name</th>\n",
       "    </tr>\n",
       "  </thead>\n",
       "  <tbody>\n",
       "    <tr>\n",
       "      <th>0</th>\n",
       "      <td>1</td>\n",
       "      <td>1</td>\n",
       "      <td>Belgium Jupiler League</td>\n",
       "    </tr>\n",
       "    <tr>\n",
       "      <th>1</th>\n",
       "      <td>1729</td>\n",
       "      <td>1729</td>\n",
       "      <td>England Premier League</td>\n",
       "    </tr>\n",
       "  </tbody>\n",
       "</table>\n",
       "</div>"
      ],
      "text/plain": [
       "     id  country_id                    name\n",
       "0     1           1  Belgium Jupiler League\n",
       "1  1729        1729  England Premier League"
      ]
     },
     "execution_count": 3,
     "metadata": {},
     "output_type": "execute_result"
    }
   ],
   "source": [
    "df_League=pd.read_sql_query('select * from league',conn)\n",
    "df_League.head(2)"
   ]
  },
  {
   "cell_type": "code",
   "execution_count": 4,
   "metadata": {},
   "outputs": [
    {
     "data": {
      "text/html": [
       "<div>\n",
       "<style scoped>\n",
       "    .dataframe tbody tr th:only-of-type {\n",
       "        vertical-align: middle;\n",
       "    }\n",
       "\n",
       "    .dataframe tbody tr th {\n",
       "        vertical-align: top;\n",
       "    }\n",
       "\n",
       "    .dataframe thead th {\n",
       "        text-align: right;\n",
       "    }\n",
       "</style>\n",
       "<table border=\"1\" class=\"dataframe\">\n",
       "  <thead>\n",
       "    <tr style=\"text-align: right;\">\n",
       "      <th></th>\n",
       "      <th>id</th>\n",
       "      <th>country_id</th>\n",
       "      <th>league_id</th>\n",
       "      <th>season</th>\n",
       "      <th>stage</th>\n",
       "      <th>date</th>\n",
       "      <th>match_api_id</th>\n",
       "      <th>home_team_api_id</th>\n",
       "      <th>away_team_api_id</th>\n",
       "      <th>home_team_goal</th>\n",
       "      <th>...</th>\n",
       "      <th>SJA</th>\n",
       "      <th>VCH</th>\n",
       "      <th>VCD</th>\n",
       "      <th>VCA</th>\n",
       "      <th>GBH</th>\n",
       "      <th>GBD</th>\n",
       "      <th>GBA</th>\n",
       "      <th>BSH</th>\n",
       "      <th>BSD</th>\n",
       "      <th>BSA</th>\n",
       "    </tr>\n",
       "  </thead>\n",
       "  <tbody>\n",
       "    <tr>\n",
       "      <th>0</th>\n",
       "      <td>1</td>\n",
       "      <td>1</td>\n",
       "      <td>1</td>\n",
       "      <td>2008/2009</td>\n",
       "      <td>1</td>\n",
       "      <td>2008-08-17 00:00:00</td>\n",
       "      <td>492473</td>\n",
       "      <td>9987</td>\n",
       "      <td>9993</td>\n",
       "      <td>1</td>\n",
       "      <td>...</td>\n",
       "      <td>4.0</td>\n",
       "      <td>1.65</td>\n",
       "      <td>3.40</td>\n",
       "      <td>4.50</td>\n",
       "      <td>1.78</td>\n",
       "      <td>3.25</td>\n",
       "      <td>4.00</td>\n",
       "      <td>1.73</td>\n",
       "      <td>3.40</td>\n",
       "      <td>4.2</td>\n",
       "    </tr>\n",
       "    <tr>\n",
       "      <th>1</th>\n",
       "      <td>2</td>\n",
       "      <td>1</td>\n",
       "      <td>1</td>\n",
       "      <td>2008/2009</td>\n",
       "      <td>1</td>\n",
       "      <td>2008-08-16 00:00:00</td>\n",
       "      <td>492474</td>\n",
       "      <td>10000</td>\n",
       "      <td>9994</td>\n",
       "      <td>0</td>\n",
       "      <td>...</td>\n",
       "      <td>3.8</td>\n",
       "      <td>2.00</td>\n",
       "      <td>3.25</td>\n",
       "      <td>3.25</td>\n",
       "      <td>1.85</td>\n",
       "      <td>3.25</td>\n",
       "      <td>3.75</td>\n",
       "      <td>1.91</td>\n",
       "      <td>3.25</td>\n",
       "      <td>3.6</td>\n",
       "    </tr>\n",
       "  </tbody>\n",
       "</table>\n",
       "<p>2 rows × 115 columns</p>\n",
       "</div>"
      ],
      "text/plain": [
       "   id  country_id  league_id     season  stage                 date  \\\n",
       "0   1           1          1  2008/2009      1  2008-08-17 00:00:00   \n",
       "1   2           1          1  2008/2009      1  2008-08-16 00:00:00   \n",
       "\n",
       "   match_api_id  home_team_api_id  away_team_api_id  home_team_goal  ...  SJA  \\\n",
       "0        492473              9987              9993               1  ...  4.0   \n",
       "1        492474             10000              9994               0  ...  3.8   \n",
       "\n",
       "    VCH   VCD   VCA   GBH   GBD   GBA   BSH   BSD  BSA  \n",
       "0  1.65  3.40  4.50  1.78  3.25  4.00  1.73  3.40  4.2  \n",
       "1  2.00  3.25  3.25  1.85  3.25  3.75  1.91  3.25  3.6  \n",
       "\n",
       "[2 rows x 115 columns]"
      ]
     },
     "execution_count": 4,
     "metadata": {},
     "output_type": "execute_result"
    }
   ],
   "source": [
    "df_Match=pd.read_sql_query('select * from Match',conn)\n",
    "df_Match.head(2)"
   ]
  },
  {
   "cell_type": "code",
   "execution_count": 5,
   "metadata": {},
   "outputs": [
    {
     "data": {
      "text/html": [
       "<div>\n",
       "<style scoped>\n",
       "    .dataframe tbody tr th:only-of-type {\n",
       "        vertical-align: middle;\n",
       "    }\n",
       "\n",
       "    .dataframe tbody tr th {\n",
       "        vertical-align: top;\n",
       "    }\n",
       "\n",
       "    .dataframe thead th {\n",
       "        text-align: right;\n",
       "    }\n",
       "</style>\n",
       "<table border=\"1\" class=\"dataframe\">\n",
       "  <thead>\n",
       "    <tr style=\"text-align: right;\">\n",
       "      <th></th>\n",
       "      <th>id</th>\n",
       "      <th>player_api_id</th>\n",
       "      <th>player_name</th>\n",
       "      <th>player_fifa_api_id</th>\n",
       "      <th>birthday</th>\n",
       "      <th>height</th>\n",
       "      <th>weight</th>\n",
       "    </tr>\n",
       "  </thead>\n",
       "  <tbody>\n",
       "    <tr>\n",
       "      <th>0</th>\n",
       "      <td>1</td>\n",
       "      <td>505942</td>\n",
       "      <td>Aaron Appindangoye</td>\n",
       "      <td>218353</td>\n",
       "      <td>1992-02-29 00:00:00</td>\n",
       "      <td>182.88</td>\n",
       "      <td>187</td>\n",
       "    </tr>\n",
       "    <tr>\n",
       "      <th>1</th>\n",
       "      <td>2</td>\n",
       "      <td>155782</td>\n",
       "      <td>Aaron Cresswell</td>\n",
       "      <td>189615</td>\n",
       "      <td>1989-12-15 00:00:00</td>\n",
       "      <td>170.18</td>\n",
       "      <td>146</td>\n",
       "    </tr>\n",
       "  </tbody>\n",
       "</table>\n",
       "</div>"
      ],
      "text/plain": [
       "   id  player_api_id         player_name  player_fifa_api_id  \\\n",
       "0   1         505942  Aaron Appindangoye              218353   \n",
       "1   2         155782     Aaron Cresswell              189615   \n",
       "\n",
       "              birthday  height  weight  \n",
       "0  1992-02-29 00:00:00  182.88     187  \n",
       "1  1989-12-15 00:00:00  170.18     146  "
      ]
     },
     "execution_count": 5,
     "metadata": {},
     "output_type": "execute_result"
    }
   ],
   "source": [
    "df_Player=pd.read_sql_query('select * from Player',conn)\n",
    "df_Player.head(2)"
   ]
  },
  {
   "cell_type": "code",
   "execution_count": 6,
   "metadata": {},
   "outputs": [
    {
     "data": {
      "text/html": [
       "<div>\n",
       "<style scoped>\n",
       "    .dataframe tbody tr th:only-of-type {\n",
       "        vertical-align: middle;\n",
       "    }\n",
       "\n",
       "    .dataframe tbody tr th {\n",
       "        vertical-align: top;\n",
       "    }\n",
       "\n",
       "    .dataframe thead th {\n",
       "        text-align: right;\n",
       "    }\n",
       "</style>\n",
       "<table border=\"1\" class=\"dataframe\">\n",
       "  <thead>\n",
       "    <tr style=\"text-align: right;\">\n",
       "      <th></th>\n",
       "      <th>id</th>\n",
       "      <th>team_api_id</th>\n",
       "      <th>team_fifa_api_id</th>\n",
       "      <th>team_long_name</th>\n",
       "      <th>team_short_name</th>\n",
       "    </tr>\n",
       "  </thead>\n",
       "  <tbody>\n",
       "    <tr>\n",
       "      <th>0</th>\n",
       "      <td>1</td>\n",
       "      <td>9987</td>\n",
       "      <td>673.0</td>\n",
       "      <td>KRC Genk</td>\n",
       "      <td>GEN</td>\n",
       "    </tr>\n",
       "    <tr>\n",
       "      <th>1</th>\n",
       "      <td>2</td>\n",
       "      <td>9993</td>\n",
       "      <td>675.0</td>\n",
       "      <td>Beerschot AC</td>\n",
       "      <td>BAC</td>\n",
       "    </tr>\n",
       "  </tbody>\n",
       "</table>\n",
       "</div>"
      ],
      "text/plain": [
       "   id  team_api_id  team_fifa_api_id team_long_name team_short_name\n",
       "0   1         9987             673.0       KRC Genk             GEN\n",
       "1   2         9993             675.0   Beerschot AC             BAC"
      ]
     },
     "execution_count": 6,
     "metadata": {},
     "output_type": "execute_result"
    }
   ],
   "source": [
    "df_Team=pd.read_sql_query('select * from Team',conn)\n",
    "df_Team.head(2)"
   ]
  },
  {
   "cell_type": "code",
   "execution_count": 7,
   "metadata": {},
   "outputs": [
    {
     "data": {
      "text/html": [
       "<div>\n",
       "<style scoped>\n",
       "    .dataframe tbody tr th:only-of-type {\n",
       "        vertical-align: middle;\n",
       "    }\n",
       "\n",
       "    .dataframe tbody tr th {\n",
       "        vertical-align: top;\n",
       "    }\n",
       "\n",
       "    .dataframe thead th {\n",
       "        text-align: right;\n",
       "    }\n",
       "</style>\n",
       "<table border=\"1\" class=\"dataframe\">\n",
       "  <thead>\n",
       "    <tr style=\"text-align: right;\">\n",
       "      <th></th>\n",
       "      <th>id</th>\n",
       "      <th>team_fifa_api_id</th>\n",
       "      <th>team_api_id</th>\n",
       "      <th>date</th>\n",
       "      <th>buildUpPlaySpeed</th>\n",
       "      <th>buildUpPlaySpeedClass</th>\n",
       "      <th>buildUpPlayDribbling</th>\n",
       "      <th>buildUpPlayDribblingClass</th>\n",
       "      <th>buildUpPlayPassing</th>\n",
       "      <th>buildUpPlayPassingClass</th>\n",
       "      <th>...</th>\n",
       "      <th>chanceCreationShooting</th>\n",
       "      <th>chanceCreationShootingClass</th>\n",
       "      <th>chanceCreationPositioningClass</th>\n",
       "      <th>defencePressure</th>\n",
       "      <th>defencePressureClass</th>\n",
       "      <th>defenceAggression</th>\n",
       "      <th>defenceAggressionClass</th>\n",
       "      <th>defenceTeamWidth</th>\n",
       "      <th>defenceTeamWidthClass</th>\n",
       "      <th>defenceDefenderLineClass</th>\n",
       "    </tr>\n",
       "  </thead>\n",
       "  <tbody>\n",
       "    <tr>\n",
       "      <th>0</th>\n",
       "      <td>1</td>\n",
       "      <td>434</td>\n",
       "      <td>9930</td>\n",
       "      <td>2010-02-22 00:00:00</td>\n",
       "      <td>60</td>\n",
       "      <td>Balanced</td>\n",
       "      <td>NaN</td>\n",
       "      <td>Little</td>\n",
       "      <td>50</td>\n",
       "      <td>Mixed</td>\n",
       "      <td>...</td>\n",
       "      <td>55</td>\n",
       "      <td>Normal</td>\n",
       "      <td>Organised</td>\n",
       "      <td>50</td>\n",
       "      <td>Medium</td>\n",
       "      <td>55</td>\n",
       "      <td>Press</td>\n",
       "      <td>45</td>\n",
       "      <td>Normal</td>\n",
       "      <td>Cover</td>\n",
       "    </tr>\n",
       "    <tr>\n",
       "      <th>1</th>\n",
       "      <td>2</td>\n",
       "      <td>434</td>\n",
       "      <td>9930</td>\n",
       "      <td>2014-09-19 00:00:00</td>\n",
       "      <td>52</td>\n",
       "      <td>Balanced</td>\n",
       "      <td>48.0</td>\n",
       "      <td>Normal</td>\n",
       "      <td>56</td>\n",
       "      <td>Mixed</td>\n",
       "      <td>...</td>\n",
       "      <td>64</td>\n",
       "      <td>Normal</td>\n",
       "      <td>Organised</td>\n",
       "      <td>47</td>\n",
       "      <td>Medium</td>\n",
       "      <td>44</td>\n",
       "      <td>Press</td>\n",
       "      <td>54</td>\n",
       "      <td>Normal</td>\n",
       "      <td>Cover</td>\n",
       "    </tr>\n",
       "  </tbody>\n",
       "</table>\n",
       "<p>2 rows × 25 columns</p>\n",
       "</div>"
      ],
      "text/plain": [
       "   id  team_fifa_api_id  team_api_id                 date  buildUpPlaySpeed  \\\n",
       "0   1               434         9930  2010-02-22 00:00:00                60   \n",
       "1   2               434         9930  2014-09-19 00:00:00                52   \n",
       "\n",
       "  buildUpPlaySpeedClass  buildUpPlayDribbling buildUpPlayDribblingClass  \\\n",
       "0              Balanced                   NaN                    Little   \n",
       "1              Balanced                  48.0                    Normal   \n",
       "\n",
       "   buildUpPlayPassing buildUpPlayPassingClass  ... chanceCreationShooting  \\\n",
       "0                  50                   Mixed  ...                     55   \n",
       "1                  56                   Mixed  ...                     64   \n",
       "\n",
       "   chanceCreationShootingClass chanceCreationPositioningClass  \\\n",
       "0                       Normal                      Organised   \n",
       "1                       Normal                      Organised   \n",
       "\n",
       "   defencePressure defencePressureClass  defenceAggression  \\\n",
       "0               50               Medium                 55   \n",
       "1               47               Medium                 44   \n",
       "\n",
       "  defenceAggressionClass defenceTeamWidth  defenceTeamWidthClass  \\\n",
       "0                  Press               45                 Normal   \n",
       "1                  Press               54                 Normal   \n",
       "\n",
       "  defenceDefenderLineClass  \n",
       "0                    Cover  \n",
       "1                    Cover  \n",
       "\n",
       "[2 rows x 25 columns]"
      ]
     },
     "execution_count": 7,
     "metadata": {},
     "output_type": "execute_result"
    }
   ],
   "source": [
    "df_Teamattributes=pd.read_sql_query('select * from Team_Attributes',conn)\n",
    "df_Teamattributes.head(2)"
   ]
  },
  {
   "cell_type": "code",
   "execution_count": 8,
   "metadata": {},
   "outputs": [
    {
     "data": {
      "text/html": [
       "<div>\n",
       "<style scoped>\n",
       "    .dataframe tbody tr th:only-of-type {\n",
       "        vertical-align: middle;\n",
       "    }\n",
       "\n",
       "    .dataframe tbody tr th {\n",
       "        vertical-align: top;\n",
       "    }\n",
       "\n",
       "    .dataframe thead th {\n",
       "        text-align: right;\n",
       "    }\n",
       "</style>\n",
       "<table border=\"1\" class=\"dataframe\">\n",
       "  <thead>\n",
       "    <tr style=\"text-align: right;\">\n",
       "      <th></th>\n",
       "      <th>id</th>\n",
       "      <th>player_fifa_api_id</th>\n",
       "      <th>player_api_id</th>\n",
       "      <th>date</th>\n",
       "      <th>overall_rating</th>\n",
       "      <th>potential</th>\n",
       "      <th>preferred_foot</th>\n",
       "      <th>attacking_work_rate</th>\n",
       "      <th>defensive_work_rate</th>\n",
       "      <th>crossing</th>\n",
       "      <th>...</th>\n",
       "      <th>vision</th>\n",
       "      <th>penalties</th>\n",
       "      <th>marking</th>\n",
       "      <th>standing_tackle</th>\n",
       "      <th>sliding_tackle</th>\n",
       "      <th>gk_diving</th>\n",
       "      <th>gk_handling</th>\n",
       "      <th>gk_kicking</th>\n",
       "      <th>gk_positioning</th>\n",
       "      <th>gk_reflexes</th>\n",
       "    </tr>\n",
       "  </thead>\n",
       "  <tbody>\n",
       "    <tr>\n",
       "      <th>0</th>\n",
       "      <td>1</td>\n",
       "      <td>218353</td>\n",
       "      <td>505942</td>\n",
       "      <td>2016-02-18 00:00:00</td>\n",
       "      <td>67.0</td>\n",
       "      <td>71.0</td>\n",
       "      <td>right</td>\n",
       "      <td>medium</td>\n",
       "      <td>medium</td>\n",
       "      <td>49.0</td>\n",
       "      <td>...</td>\n",
       "      <td>54.0</td>\n",
       "      <td>48.0</td>\n",
       "      <td>65.0</td>\n",
       "      <td>69.0</td>\n",
       "      <td>69.0</td>\n",
       "      <td>6.0</td>\n",
       "      <td>11.0</td>\n",
       "      <td>10.0</td>\n",
       "      <td>8.0</td>\n",
       "      <td>8.0</td>\n",
       "    </tr>\n",
       "    <tr>\n",
       "      <th>1</th>\n",
       "      <td>2</td>\n",
       "      <td>218353</td>\n",
       "      <td>505942</td>\n",
       "      <td>2015-11-19 00:00:00</td>\n",
       "      <td>67.0</td>\n",
       "      <td>71.0</td>\n",
       "      <td>right</td>\n",
       "      <td>medium</td>\n",
       "      <td>medium</td>\n",
       "      <td>49.0</td>\n",
       "      <td>...</td>\n",
       "      <td>54.0</td>\n",
       "      <td>48.0</td>\n",
       "      <td>65.0</td>\n",
       "      <td>69.0</td>\n",
       "      <td>69.0</td>\n",
       "      <td>6.0</td>\n",
       "      <td>11.0</td>\n",
       "      <td>10.0</td>\n",
       "      <td>8.0</td>\n",
       "      <td>8.0</td>\n",
       "    </tr>\n",
       "  </tbody>\n",
       "</table>\n",
       "<p>2 rows × 42 columns</p>\n",
       "</div>"
      ],
      "text/plain": [
       "   id  player_fifa_api_id  player_api_id                 date  overall_rating  \\\n",
       "0   1              218353         505942  2016-02-18 00:00:00            67.0   \n",
       "1   2              218353         505942  2015-11-19 00:00:00            67.0   \n",
       "\n",
       "   potential preferred_foot attacking_work_rate defensive_work_rate  crossing  \\\n",
       "0       71.0          right              medium              medium      49.0   \n",
       "1       71.0          right              medium              medium      49.0   \n",
       "\n",
       "   ...  vision  penalties  marking  standing_tackle  sliding_tackle  \\\n",
       "0  ...    54.0       48.0     65.0             69.0            69.0   \n",
       "1  ...    54.0       48.0     65.0             69.0            69.0   \n",
       "\n",
       "   gk_diving  gk_handling  gk_kicking  gk_positioning  gk_reflexes  \n",
       "0        6.0         11.0        10.0             8.0          8.0  \n",
       "1        6.0         11.0        10.0             8.0          8.0  \n",
       "\n",
       "[2 rows x 42 columns]"
      ]
     },
     "execution_count": 8,
     "metadata": {},
     "output_type": "execute_result"
    }
   ],
   "source": [
    "df_Playerattributes=pd.read_sql_query('select * from Player_Attributes',conn)\n",
    "df_Playerattributes.head(2)"
   ]
  },
  {
   "cell_type": "code",
   "execution_count": 9,
   "metadata": {},
   "outputs": [
    {
     "data": {
      "text/html": [
       "<div>\n",
       "<style scoped>\n",
       "    .dataframe tbody tr th:only-of-type {\n",
       "        vertical-align: middle;\n",
       "    }\n",
       "\n",
       "    .dataframe tbody tr th {\n",
       "        vertical-align: top;\n",
       "    }\n",
       "\n",
       "    .dataframe thead th {\n",
       "        text-align: right;\n",
       "    }\n",
       "</style>\n",
       "<table border=\"1\" class=\"dataframe\">\n",
       "  <thead>\n",
       "    <tr style=\"text-align: right;\">\n",
       "      <th></th>\n",
       "      <th>name</th>\n",
       "      <th>seq</th>\n",
       "    </tr>\n",
       "  </thead>\n",
       "  <tbody>\n",
       "    <tr>\n",
       "      <th>0</th>\n",
       "      <td>Team</td>\n",
       "      <td>103916</td>\n",
       "    </tr>\n",
       "    <tr>\n",
       "      <th>1</th>\n",
       "      <td>Country</td>\n",
       "      <td>51958</td>\n",
       "    </tr>\n",
       "  </tbody>\n",
       "</table>\n",
       "</div>"
      ],
      "text/plain": [
       "      name     seq\n",
       "0     Team  103916\n",
       "1  Country   51958"
      ]
     },
     "execution_count": 9,
     "metadata": {},
     "output_type": "execute_result"
    }
   ],
   "source": [
    "df_sqlitesequence=pd.read_sql_query('select * from sqlite_sequence',conn)\n",
    "df_sqlitesequence.head(2)"
   ]
  },
  {
   "cell_type": "markdown",
   "metadata": {},
   "source": [
    "<a id='assess'></a>\n",
    "# Assessing\n",
    "### phase 2 of data wrangling"
   ]
  },
  {
   "cell_type": "markdown",
   "metadata": {},
   "source": [
    "## country Table asssess"
   ]
  },
  {
   "cell_type": "code",
   "execution_count": 10,
   "metadata": {},
   "outputs": [
    {
     "data": {
      "text/plain": [
       "id       int64\n",
       "name    object\n",
       "dtype: object"
      ]
     },
     "execution_count": 10,
     "metadata": {},
     "output_type": "execute_result"
    }
   ],
   "source": [
    "#get the data types of columns of the Table\n",
    "df_country.dtypes"
   ]
  },
  {
   "cell_type": "code",
   "execution_count": 11,
   "metadata": {},
   "outputs": [
    {
     "name": "stdout",
     "output_type": "stream",
     "text": [
      "number of observations in country table: 11\n",
      "number of columns in country table: 2\n"
     ]
    }
   ],
   "source": [
    "# print the number of observations\n",
    "print('number of observations in country table:',df_country.shape[0])\n",
    "# print the number of columns \n",
    "print('number of columns in country table:',df_country.shape[1])"
   ]
  },
  {
   "cell_type": "code",
   "execution_count": 12,
   "metadata": {},
   "outputs": [
    {
     "name": "stdout",
     "output_type": "stream",
     "text": [
      "number of null values in country table: 0\n",
      "number of dublicated values in country table: 0\n"
     ]
    }
   ],
   "source": [
    "# print the number of all null values\n",
    "print('number of null values in country table:',df_country.isnull().sum().sum())\n",
    "# print the number of all dublicated values\n",
    "print('number of dublicated values in country table:',df_country.duplicated().sum())"
   ]
  },
  {
   "cell_type": "markdown",
   "metadata": {},
   "source": [
    "## League Table assess"
   ]
  },
  {
   "cell_type": "code",
   "execution_count": 13,
   "metadata": {},
   "outputs": [
    {
     "data": {
      "text/plain": [
       "id             int64\n",
       "country_id     int64\n",
       "name          object\n",
       "dtype: object"
      ]
     },
     "execution_count": 13,
     "metadata": {},
     "output_type": "execute_result"
    }
   ],
   "source": [
    "df_League.dtypes"
   ]
  },
  {
   "cell_type": "code",
   "execution_count": 14,
   "metadata": {},
   "outputs": [
    {
     "name": "stdout",
     "output_type": "stream",
     "text": [
      "number of observations in League table: 11\n",
      "number of columns in League table: 3\n"
     ]
    }
   ],
   "source": [
    "print('number of observations in League table:',df_League.shape[0])\n",
    "print('number of columns in League table:',df_League.shape[1])"
   ]
  },
  {
   "cell_type": "code",
   "execution_count": 15,
   "metadata": {},
   "outputs": [
    {
     "name": "stdout",
     "output_type": "stream",
     "text": [
      "number of null values in League table: 0\n",
      "number of dublicated values in league table: 0\n"
     ]
    }
   ],
   "source": [
    "print('number of null values in League table:',df_League.isnull().sum().sum())\n",
    "print('number of dublicated values in league table:',df_League.duplicated().sum())"
   ]
  },
  {
   "cell_type": "markdown",
   "metadata": {},
   "source": [
    "## Match Table assess"
   ]
  },
  {
   "cell_type": "code",
   "execution_count": 16,
   "metadata": {},
   "outputs": [
    {
     "name": "stdout",
     "output_type": "stream",
     "text": [
      "number of observations in Match table: 25979\n",
      "number of columns in Match table: 115\n"
     ]
    }
   ],
   "source": [
    "print('number of observations in Match table:',df_Match.shape[0])\n",
    "print('number of columns in Match table:',df_Match.shape[1])"
   ]
  },
  {
   "cell_type": "code",
   "execution_count": 17,
   "metadata": {},
   "outputs": [
    {
     "name": "stdout",
     "output_type": "stream",
     "text": [
      "number of null values in Match table: 407395\n"
     ]
    }
   ],
   "source": [
    "print('number of null values in Match table:',df_Match.isnull().sum().sum())"
   ]
  },
  {
   "cell_type": "code",
   "execution_count": 18,
   "metadata": {},
   "outputs": [
    {
     "name": "stdout",
     "output_type": "stream",
     "text": [
      "number of dublicated values in Match table: 0\n"
     ]
    }
   ],
   "source": [
    "print('number of dublicated values in Match table:',df_Match.duplicated().sum())"
   ]
  },
  {
   "cell_type": "markdown",
   "metadata": {},
   "source": [
    "## Team Table assess"
   ]
  },
  {
   "cell_type": "code",
   "execution_count": 19,
   "metadata": {},
   "outputs": [
    {
     "name": "stdout",
     "output_type": "stream",
     "text": [
      "id                    int64\n",
      "team_api_id           int64\n",
      "team_fifa_api_id    float64\n",
      "team_long_name       object\n",
      "team_short_name      object\n",
      "dtype: object\n",
      "number of observations in Team table: 299\n",
      "number of columns in Team table: 5\n",
      "number of dublicated values in Team table: 0\n"
     ]
    }
   ],
   "source": [
    "print(df_Team.dtypes)\n",
    "print('number of observations in Team table:',df_Team.shape[0])\n",
    "print('number of columns in Team table:',df_Team.shape[1])\n",
    "print('number of dublicated values in Team table:',df_Team.duplicated().sum())"
   ]
  },
  {
   "cell_type": "code",
   "execution_count": 20,
   "metadata": {},
   "outputs": [
    {
     "name": "stdout",
     "output_type": "stream",
     "text": [
      "number of null values in Team table: id                   0\n",
      "team_api_id          0\n",
      "team_fifa_api_id    11\n",
      "team_long_name       0\n",
      "team_short_name      0\n",
      "dtype: int64\n"
     ]
    }
   ],
   "source": [
    "print('number of null values in Team table:',df_Team.isnull().sum())"
   ]
  },
  {
   "cell_type": "markdown",
   "metadata": {},
   "source": [
    "## Players Table assess"
   ]
  },
  {
   "cell_type": "code",
   "execution_count": 21,
   "metadata": {},
   "outputs": [
    {
     "name": "stdout",
     "output_type": "stream",
     "text": [
      "id                      int64\n",
      "player_api_id           int64\n",
      "player_name            object\n",
      "player_fifa_api_id      int64\n",
      "birthday               object\n",
      "height                float64\n",
      "weight                  int64\n",
      "dtype: object\n",
      "number of observations in Player table: 11060\n",
      "number of columns in Player table: 7\n",
      "number of dublicated values in Player table: 0\n",
      "number of null values in Player table: 0\n"
     ]
    }
   ],
   "source": [
    "print(df_Player.dtypes)\n",
    "print('number of observations in Player table:',df_Player.shape[0])\n",
    "print('number of columns in Player table:',df_Player.shape[1])\n",
    "print('number of dublicated values in Player table:',df_Player.duplicated().sum())\n",
    "print('number of null values in Player table:',df_Player.isnull().sum().sum())"
   ]
  },
  {
   "cell_type": "markdown",
   "metadata": {},
   "source": [
    "## Player_Atributes Table Assess"
   ]
  },
  {
   "cell_type": "code",
   "execution_count": 22,
   "metadata": {},
   "outputs": [
    {
     "name": "stdout",
     "output_type": "stream",
     "text": [
      "id                       int64\n",
      "player_fifa_api_id       int64\n",
      "player_api_id            int64\n",
      "date                    object\n",
      "overall_rating         float64\n",
      "potential              float64\n",
      "preferred_foot          object\n",
      "attacking_work_rate     object\n",
      "defensive_work_rate     object\n",
      "crossing               float64\n",
      "finishing              float64\n",
      "heading_accuracy       float64\n",
      "short_passing          float64\n",
      "volleys                float64\n",
      "dribbling              float64\n",
      "curve                  float64\n",
      "free_kick_accuracy     float64\n",
      "long_passing           float64\n",
      "ball_control           float64\n",
      "acceleration           float64\n",
      "sprint_speed           float64\n",
      "agility                float64\n",
      "reactions              float64\n",
      "balance                float64\n",
      "shot_power             float64\n",
      "jumping                float64\n",
      "stamina                float64\n",
      "strength               float64\n",
      "long_shots             float64\n",
      "aggression             float64\n",
      "interceptions          float64\n",
      "positioning            float64\n",
      "vision                 float64\n",
      "penalties              float64\n",
      "marking                float64\n",
      "standing_tackle        float64\n",
      "sliding_tackle         float64\n",
      "gk_diving              float64\n",
      "gk_handling            float64\n",
      "gk_kicking             float64\n",
      "gk_positioning         float64\n",
      "gk_reflexes            float64\n",
      "dtype: object\n"
     ]
    }
   ],
   "source": [
    "print(df_Playerattributes.dtypes)"
   ]
  },
  {
   "cell_type": "code",
   "execution_count": 23,
   "metadata": {},
   "outputs": [
    {
     "name": "stdout",
     "output_type": "stream",
     "text": [
      "47301\n"
     ]
    }
   ],
   "source": [
    "print(df_Playerattributes.isnull().sum().sum())"
   ]
  },
  {
   "cell_type": "code",
   "execution_count": 24,
   "metadata": {},
   "outputs": [
    {
     "name": "stdout",
     "output_type": "stream",
     "text": [
      "number of observations in Player table: 183978\n",
      "number of columns in Player table: 42\n",
      "number of dublicated values in Player table: 0\n"
     ]
    }
   ],
   "source": [
    "print('number of observations in Player table:',df_Playerattributes.shape[0])\n",
    "print('number of columns in Player table:',df_Playerattributes.shape[1])\n",
    "print('number of dublicated values in Player table:',df_Playerattributes.duplicated().sum())"
   ]
  },
  {
   "cell_type": "markdown",
   "metadata": {},
   "source": [
    "## Team_Atrributes Table assess"
   ]
  },
  {
   "cell_type": "code",
   "execution_count": 25,
   "metadata": {},
   "outputs": [
    {
     "name": "stdout",
     "output_type": "stream",
     "text": [
      "id                                  int64\n",
      "team_fifa_api_id                    int64\n",
      "team_api_id                         int64\n",
      "date                               object\n",
      "buildUpPlaySpeed                    int64\n",
      "buildUpPlaySpeedClass              object\n",
      "buildUpPlayDribbling              float64\n",
      "buildUpPlayDribblingClass          object\n",
      "buildUpPlayPassing                  int64\n",
      "buildUpPlayPassingClass            object\n",
      "buildUpPlayPositioningClass        object\n",
      "chanceCreationPassing               int64\n",
      "chanceCreationPassingClass         object\n",
      "chanceCreationCrossing              int64\n",
      "chanceCreationCrossingClass        object\n",
      "chanceCreationShooting              int64\n",
      "chanceCreationShootingClass        object\n",
      "chanceCreationPositioningClass     object\n",
      "defencePressure                     int64\n",
      "defencePressureClass               object\n",
      "defenceAggression                   int64\n",
      "defenceAggressionClass             object\n",
      "defenceTeamWidth                    int64\n",
      "defenceTeamWidthClass              object\n",
      "defenceDefenderLineClass           object\n",
      "dtype: object\n"
     ]
    }
   ],
   "source": [
    "print(df_Teamattributes.dtypes)"
   ]
  },
  {
   "cell_type": "code",
   "execution_count": 26,
   "metadata": {},
   "outputs": [
    {
     "name": "stdout",
     "output_type": "stream",
     "text": [
      "number of null values in Player table: 969\n"
     ]
    }
   ],
   "source": [
    "print('number of null values in Player table:',df_Teamattributes.isnull().sum().sum())"
   ]
  },
  {
   "cell_type": "code",
   "execution_count": 27,
   "metadata": {},
   "outputs": [
    {
     "name": "stdout",
     "output_type": "stream",
     "text": [
      "number of observations in Player table: 1458\n",
      "number of columns in Player table: 25\n",
      "number of dublicated values in Player table: 0\n"
     ]
    }
   ],
   "source": [
    "print('number of observations in Player table:',df_Teamattributes.shape[0])\n",
    "print('number of columns in Player table:',df_Teamattributes.shape[1])\n",
    "print('number of dublicated values in Player table:',df_Teamattributes.duplicated().sum())"
   ]
  },
  {
   "cell_type": "markdown",
   "metadata": {},
   "source": [
    "<a id='clean'></a>\n",
    "# Data cleaning(based on the questions)\n",
    "### phase 3 in data wrangling     "
   ]
  },
  {
   "cell_type": "code",
   "execution_count": 28,
   "metadata": {},
   "outputs": [],
   "source": [
    "#cleaning with drop the columns i dont use them in analysis\n",
    "df_Match.drop(df_Match.iloc[:,11:81],inplace=True,axis=1)"
   ]
  },
  {
   "cell_type": "code",
   "execution_count": 29,
   "metadata": {},
   "outputs": [
    {
     "name": "stdout",
     "output_type": "stream",
     "text": [
      "<class 'pandas.core.frame.DataFrame'>\n",
      "RangeIndex: 25979 entries, 0 to 25978\n",
      "Data columns (total 45 columns):\n",
      " #   Column            Non-Null Count  Dtype  \n",
      "---  ------            --------------  -----  \n",
      " 0   id                25979 non-null  int64  \n",
      " 1   country_id        25979 non-null  int64  \n",
      " 2   league_id         25979 non-null  int64  \n",
      " 3   season            25979 non-null  object \n",
      " 4   stage             25979 non-null  int64  \n",
      " 5   date              25979 non-null  object \n",
      " 6   match_api_id      25979 non-null  int64  \n",
      " 7   home_team_api_id  25979 non-null  int64  \n",
      " 8   away_team_api_id  25979 non-null  int64  \n",
      " 9   home_team_goal    25979 non-null  int64  \n",
      " 10  away_team_goal    25979 non-null  int64  \n",
      " 11  card              14217 non-null  object \n",
      " 12  cross             14217 non-null  object \n",
      " 13  corner            14217 non-null  object \n",
      " 14  possession        14217 non-null  object \n",
      " 15  B365H             22592 non-null  float64\n",
      " 16  B365D             22592 non-null  float64\n",
      " 17  B365A             22592 non-null  float64\n",
      " 18  BWH               22575 non-null  float64\n",
      " 19  BWD               22575 non-null  float64\n",
      " 20  BWA               22575 non-null  float64\n",
      " 21  IWH               22520 non-null  float64\n",
      " 22  IWD               22520 non-null  float64\n",
      " 23  IWA               22520 non-null  float64\n",
      " 24  LBH               22556 non-null  float64\n",
      " 25  LBD               22556 non-null  float64\n",
      " 26  LBA               22556 non-null  float64\n",
      " 27  PSH               11168 non-null  float64\n",
      " 28  PSD               11168 non-null  float64\n",
      " 29  PSA               11168 non-null  float64\n",
      " 30  WHH               22571 non-null  float64\n",
      " 31  WHD               22571 non-null  float64\n",
      " 32  WHA               22571 non-null  float64\n",
      " 33  SJH               17097 non-null  float64\n",
      " 34  SJD               17097 non-null  float64\n",
      " 35  SJA               17097 non-null  float64\n",
      " 36  VCH               22568 non-null  float64\n",
      " 37  VCD               22568 non-null  float64\n",
      " 38  VCA               22568 non-null  float64\n",
      " 39  GBH               14162 non-null  float64\n",
      " 40  GBD               14162 non-null  float64\n",
      " 41  GBA               14162 non-null  float64\n",
      " 42  BSH               14161 non-null  float64\n",
      " 43  BSD               14161 non-null  float64\n",
      " 44  BSA               14161 non-null  float64\n",
      "dtypes: float64(30), int64(9), object(6)\n",
      "memory usage: 8.9+ MB\n"
     ]
    }
   ],
   "source": [
    "df_Match.info()"
   ]
  },
  {
   "cell_type": "code",
   "execution_count": 30,
   "metadata": {},
   "outputs": [],
   "source": [
    "# parsing for card column to two lists 'card_home':cards that the home team taked\n",
    "# and 'card_away' that the againest team taked\n",
    "#i parsed the card column becausee i will use it in questions\n",
    "home=0\n",
    "away=0\n",
    "card_home=list()\n",
    "card_away=list()\n",
    "for row in range(df_Match.shape[0]):\n",
    "    if df_Match['card'][row]!=None:\n",
    "        soup=BeautifulSoup(df_Match['card'][row])\n",
    "        c=soup.find_all('team')\n",
    "        for i in range(len(c)):\n",
    "            if int(c[i].contents[0])==df_Match['home_team_api_id'][row]:\n",
    "                  home=home+1\n",
    "            elif int(c[i].contents[0])==df_Match['away_team_api_id'][row]:\n",
    "                  away=away+1\n",
    "    card_home.append(home)\n",
    "    card_away.append(away)\n",
    "    home=0\n",
    "    away=0"
   ]
  },
  {
   "cell_type": "code",
   "execution_count": 31,
   "metadata": {},
   "outputs": [],
   "source": [
    "#remove the card column that is in xml shape\n",
    "df_Match.drop(columns=['card'],axis=1,inplace=True)"
   ]
  },
  {
   "cell_type": "code",
   "execution_count": 32,
   "metadata": {},
   "outputs": [],
   "source": [
    "#insert the home_card list in datafram of match table\n",
    "df_Match.insert(11,'home_card',card_home)"
   ]
  },
  {
   "cell_type": "code",
   "execution_count": 33,
   "metadata": {},
   "outputs": [],
   "source": [
    "#remove rest of columns i won't use \n",
    "df_Match.drop(df_Match.iloc[:,12:45],inplace=True,axis=1)"
   ]
  },
  {
   "cell_type": "code",
   "execution_count": 34,
   "metadata": {},
   "outputs": [],
   "source": [
    "#insert the away_card list in datafram of match table\n",
    "df_Match.insert(11,'away_card',card_away)"
   ]
  },
  {
   "cell_type": "code",
   "execution_count": 35,
   "metadata": {},
   "outputs": [],
   "source": [
    "# remove the sqlitesequence dataframe because i won't use it\n",
    "df_sqlitesequence=None"
   ]
  },
  {
   "cell_type": "markdown",
   "metadata": {},
   "source": [
    "<a id='eda'></a>\n",
    "## Exploratory Data Analysis\n",
    "\n"
   ]
  },
  {
   "cell_type": "markdown",
   "metadata": {},
   "source": [
    "## Questions\n",
    "<ul>\n",
    "<li><a href=\"#Question1\">Question1</a></li>\n",
    "<li><a href='#Question2'>Question2</a></li>\n",
    "<li><a href='#Question3'>Question3</a></li>\n",
    "<li><a href='#Question4'>Question4</a></li>\n",
    "<li><a href='#Question5'>Question5</a></li>\n",
    "</ul>\n",
    "<ul>"
   ]
  },
  {
   "cell_type": "markdown",
   "metadata": {},
   "source": [
    "<a id='Question1'></a>\n",
    "# Question 1-what are the best teams over all the seasons?"
   ]
  },
  {
   "cell_type": "code",
   "execution_count": 36,
   "metadata": {},
   "outputs": [],
   "source": [
    "#i will get the best team based on the number of goals \n",
    "#used match table to know the number of goals for each team in each season\n",
    "home_team_goal=df_Match.groupby(['season','home_team_api_id'])['home_team_goal'].sum().reset_index()"
   ]
  },
  {
   "cell_type": "code",
   "execution_count": 37,
   "metadata": {},
   "outputs": [],
   "source": [
    "maximum_home=home_team_goal.groupby('season').max().reset_index()"
   ]
  },
  {
   "cell_type": "code",
   "execution_count": 38,
   "metadata": {},
   "outputs": [],
   "source": [
    "#searching function,,, search on the ids on a table based on ids in another table and print the name (player or team or ..) \n",
    "def searching_on_names(ids1,ids2,name):\n",
    "    names=list()\n",
    "    for i in range(len(ids2)):\n",
    "        for j in range(len(ids1)):\n",
    "            if ids1[j]==ids2[i]:\n",
    "                names.append(name[j])\n",
    "    return names"
   ]
  },
  {
   "cell_type": "code",
   "execution_count": 39,
   "metadata": {},
   "outputs": [
    {
     "data": {
      "text/html": [
       "<div>\n",
       "<style scoped>\n",
       "    .dataframe tbody tr th:only-of-type {\n",
       "        vertical-align: middle;\n",
       "    }\n",
       "\n",
       "    .dataframe tbody tr th {\n",
       "        vertical-align: top;\n",
       "    }\n",
       "\n",
       "    .dataframe thead th {\n",
       "        text-align: right;\n",
       "    }\n",
       "</style>\n",
       "<table border=\"1\" class=\"dataframe\">\n",
       "  <thead>\n",
       "    <tr style=\"text-align: right;\">\n",
       "      <th></th>\n",
       "      <th>season</th>\n",
       "      <th>home_team_api_id</th>\n",
       "      <th>home_team_goal</th>\n",
       "      <th>team_name</th>\n",
       "    </tr>\n",
       "  </thead>\n",
       "  <tbody>\n",
       "    <tr>\n",
       "      <th>0</th>\n",
       "      <td>2008/2009</td>\n",
       "      <td>10281</td>\n",
       "      <td>61</td>\n",
       "      <td>Real Valladolid</td>\n",
       "    </tr>\n",
       "    <tr>\n",
       "      <th>1</th>\n",
       "      <td>2009/2010</td>\n",
       "      <td>10281</td>\n",
       "      <td>68</td>\n",
       "      <td>Real Valladolid</td>\n",
       "    </tr>\n",
       "    <tr>\n",
       "      <th>2</th>\n",
       "      <td>2010/2011</td>\n",
       "      <td>108893</td>\n",
       "      <td>61</td>\n",
       "      <td>AC Arles-Avignon</td>\n",
       "    </tr>\n",
       "    <tr>\n",
       "      <th>3</th>\n",
       "      <td>2011/2012</td>\n",
       "      <td>10269</td>\n",
       "      <td>73</td>\n",
       "      <td>VfB Stuttgart</td>\n",
       "    </tr>\n",
       "    <tr>\n",
       "      <th>4</th>\n",
       "      <td>2012/2013</td>\n",
       "      <td>10281</td>\n",
       "      <td>67</td>\n",
       "      <td>Real Valladolid</td>\n",
       "    </tr>\n",
       "    <tr>\n",
       "      <th>5</th>\n",
       "      <td>2013/2014</td>\n",
       "      <td>158085</td>\n",
       "      <td>64</td>\n",
       "      <td>FC Arouca</td>\n",
       "    </tr>\n",
       "    <tr>\n",
       "      <th>6</th>\n",
       "      <td>2014/2015</td>\n",
       "      <td>274581</td>\n",
       "      <td>65</td>\n",
       "      <td>Royal Excel Mouscron</td>\n",
       "    </tr>\n",
       "    <tr>\n",
       "      <th>7</th>\n",
       "      <td>2015/2016</td>\n",
       "      <td>274581</td>\n",
       "      <td>70</td>\n",
       "      <td>Royal Excel Mouscron</td>\n",
       "    </tr>\n",
       "  </tbody>\n",
       "</table>\n",
       "</div>"
      ],
      "text/plain": [
       "      season  home_team_api_id  home_team_goal             team_name\n",
       "0  2008/2009             10281              61       Real Valladolid\n",
       "1  2009/2010             10281              68       Real Valladolid\n",
       "2  2010/2011            108893              61      AC Arles-Avignon\n",
       "3  2011/2012             10269              73         VfB Stuttgart\n",
       "4  2012/2013             10281              67       Real Valladolid\n",
       "5  2013/2014            158085              64             FC Arouca\n",
       "6  2014/2015            274581              65  Royal Excel Mouscron\n",
       "7  2015/2016            274581              70  Royal Excel Mouscron"
      ]
     },
     "execution_count": 39,
     "metadata": {},
     "output_type": "execute_result"
    }
   ],
   "source": [
    "#searching on the names of teams are the best over all seasons based on number of goals their scored in home_teams\n",
    "Teams_home=searching_on_names(df_Team['team_api_id'],maximum_home['home_team_api_id'],df_Team['team_long_name'])\n",
    "maximum_home.insert(3,'team_name',Teams_home)\n",
    "maximum_home"
   ]
  },
  {
   "cell_type": "code",
   "execution_count": 40,
   "metadata": {},
   "outputs": [],
   "source": [
    "#used match table to know the number of goals for each team in each season in away teams\n",
    "away_team_goal=df_Match.groupby(['season','away_team_api_id'])['away_team_goal'].sum().reset_index()\n",
    "maximum_away=away_team_goal.groupby('season').max().reset_index()"
   ]
  },
  {
   "cell_type": "code",
   "execution_count": 41,
   "metadata": {},
   "outputs": [
    {
     "data": {
      "text/html": [
       "<div>\n",
       "<style scoped>\n",
       "    .dataframe tbody tr th:only-of-type {\n",
       "        vertical-align: middle;\n",
       "    }\n",
       "\n",
       "    .dataframe tbody tr th {\n",
       "        vertical-align: top;\n",
       "    }\n",
       "\n",
       "    .dataframe thead th {\n",
       "        text-align: right;\n",
       "    }\n",
       "</style>\n",
       "<table border=\"1\" class=\"dataframe\">\n",
       "  <thead>\n",
       "    <tr style=\"text-align: right;\">\n",
       "      <th></th>\n",
       "      <th>season</th>\n",
       "      <th>away_team_api_id</th>\n",
       "      <th>away_team_goal</th>\n",
       "      <th>team_name</th>\n",
       "    </tr>\n",
       "  </thead>\n",
       "  <tbody>\n",
       "    <tr>\n",
       "      <th>0</th>\n",
       "      <td>2008/2009</td>\n",
       "      <td>10281</td>\n",
       "      <td>44</td>\n",
       "      <td>Real Valladolid</td>\n",
       "    </tr>\n",
       "    <tr>\n",
       "      <th>1</th>\n",
       "      <td>2009/2010</td>\n",
       "      <td>10281</td>\n",
       "      <td>42</td>\n",
       "      <td>Real Valladolid</td>\n",
       "    </tr>\n",
       "    <tr>\n",
       "      <th>2</th>\n",
       "      <td>2010/2011</td>\n",
       "      <td>108893</td>\n",
       "      <td>49</td>\n",
       "      <td>AC Arles-Avignon</td>\n",
       "    </tr>\n",
       "    <tr>\n",
       "      <th>3</th>\n",
       "      <td>2011/2012</td>\n",
       "      <td>10269</td>\n",
       "      <td>51</td>\n",
       "      <td>VfB Stuttgart</td>\n",
       "    </tr>\n",
       "    <tr>\n",
       "      <th>4</th>\n",
       "      <td>2012/2013</td>\n",
       "      <td>10281</td>\n",
       "      <td>52</td>\n",
       "      <td>Real Valladolid</td>\n",
       "    </tr>\n",
       "    <tr>\n",
       "      <th>5</th>\n",
       "      <td>2013/2014</td>\n",
       "      <td>158085</td>\n",
       "      <td>52</td>\n",
       "      <td>FC Arouca</td>\n",
       "    </tr>\n",
       "    <tr>\n",
       "      <th>6</th>\n",
       "      <td>2014/2015</td>\n",
       "      <td>274581</td>\n",
       "      <td>53</td>\n",
       "      <td>Royal Excel Mouscron</td>\n",
       "    </tr>\n",
       "    <tr>\n",
       "      <th>7</th>\n",
       "      <td>2015/2016</td>\n",
       "      <td>274581</td>\n",
       "      <td>47</td>\n",
       "      <td>Royal Excel Mouscron</td>\n",
       "    </tr>\n",
       "  </tbody>\n",
       "</table>\n",
       "</div>"
      ],
      "text/plain": [
       "      season  away_team_api_id  away_team_goal             team_name\n",
       "0  2008/2009             10281              44       Real Valladolid\n",
       "1  2009/2010             10281              42       Real Valladolid\n",
       "2  2010/2011            108893              49      AC Arles-Avignon\n",
       "3  2011/2012             10269              51         VfB Stuttgart\n",
       "4  2012/2013             10281              52       Real Valladolid\n",
       "5  2013/2014            158085              52             FC Arouca\n",
       "6  2014/2015            274581              53  Royal Excel Mouscron\n",
       "7  2015/2016            274581              47  Royal Excel Mouscron"
      ]
     },
     "execution_count": 41,
     "metadata": {},
     "output_type": "execute_result"
    }
   ],
   "source": [
    "#searching on the names of teams are the best over all seasons based on number of goals their scored in away_teams\n",
    "Teams_away=searching_on_names(df_Team['team_api_id'],maximum_away['away_team_api_id'],df_Team['team_long_name'])\n",
    "maximum_away.insert(3,'team_name',Teams_away)\n",
    "maximum_away"
   ]
  },
  {
   "cell_type": "code",
   "execution_count": 42,
   "metadata": {},
   "outputs": [
    {
     "data": {
      "text/html": [
       "<div>\n",
       "<style scoped>\n",
       "    .dataframe tbody tr th:only-of-type {\n",
       "        vertical-align: middle;\n",
       "    }\n",
       "\n",
       "    .dataframe tbody tr th {\n",
       "        vertical-align: top;\n",
       "    }\n",
       "\n",
       "    .dataframe thead th {\n",
       "        text-align: right;\n",
       "    }\n",
       "</style>\n",
       "<table border=\"1\" class=\"dataframe\">\n",
       "  <thead>\n",
       "    <tr style=\"text-align: right;\">\n",
       "      <th></th>\n",
       "      <th>season</th>\n",
       "      <th>away_team_api_id</th>\n",
       "      <th>away_team_goal</th>\n",
       "      <th>team_name</th>\n",
       "    </tr>\n",
       "  </thead>\n",
       "  <tbody>\n",
       "    <tr>\n",
       "      <th>0</th>\n",
       "      <td>2008/2009</td>\n",
       "      <td>10281</td>\n",
       "      <td>44</td>\n",
       "      <td>Real Valladolid</td>\n",
       "    </tr>\n",
       "    <tr>\n",
       "      <th>1</th>\n",
       "      <td>2009/2010</td>\n",
       "      <td>10281</td>\n",
       "      <td>42</td>\n",
       "      <td>Real Valladolid</td>\n",
       "    </tr>\n",
       "    <tr>\n",
       "      <th>2</th>\n",
       "      <td>2010/2011</td>\n",
       "      <td>108893</td>\n",
       "      <td>49</td>\n",
       "      <td>AC Arles-Avignon</td>\n",
       "    </tr>\n",
       "    <tr>\n",
       "      <th>3</th>\n",
       "      <td>2011/2012</td>\n",
       "      <td>10269</td>\n",
       "      <td>51</td>\n",
       "      <td>VfB Stuttgart</td>\n",
       "    </tr>\n",
       "    <tr>\n",
       "      <th>4</th>\n",
       "      <td>2012/2013</td>\n",
       "      <td>10281</td>\n",
       "      <td>52</td>\n",
       "      <td>Real Valladolid</td>\n",
       "    </tr>\n",
       "    <tr>\n",
       "      <th>5</th>\n",
       "      <td>2013/2014</td>\n",
       "      <td>158085</td>\n",
       "      <td>52</td>\n",
       "      <td>FC Arouca</td>\n",
       "    </tr>\n",
       "    <tr>\n",
       "      <th>6</th>\n",
       "      <td>2014/2015</td>\n",
       "      <td>274581</td>\n",
       "      <td>53</td>\n",
       "      <td>Royal Excel Mouscron</td>\n",
       "    </tr>\n",
       "    <tr>\n",
       "      <th>7</th>\n",
       "      <td>2015/2016</td>\n",
       "      <td>274581</td>\n",
       "      <td>47</td>\n",
       "      <td>Royal Excel Mouscron</td>\n",
       "    </tr>\n",
       "  </tbody>\n",
       "</table>\n",
       "</div>"
      ],
      "text/plain": [
       "      season  away_team_api_id  away_team_goal             team_name\n",
       "0  2008/2009             10281              44       Real Valladolid\n",
       "1  2009/2010             10281              42       Real Valladolid\n",
       "2  2010/2011            108893              49      AC Arles-Avignon\n",
       "3  2011/2012             10269              51         VfB Stuttgart\n",
       "4  2012/2013             10281              52       Real Valladolid\n",
       "5  2013/2014            158085              52             FC Arouca\n",
       "6  2014/2015            274581              53  Royal Excel Mouscron\n",
       "7  2015/2016            274581              47  Royal Excel Mouscron"
      ]
     },
     "execution_count": 42,
     "metadata": {},
     "output_type": "execute_result"
    }
   ],
   "source": [
    "#print the top teams overall seasons \n",
    "maximum_away"
   ]
  },
  {
   "cell_type": "markdown",
   "metadata": {},
   "source": [
    "<a id='Question2'></a>\n",
    "# Question 2-which 10 Players had the most penalties?"
   ]
  },
  {
   "cell_type": "code",
   "execution_count": 43,
   "metadata": {},
   "outputs": [
    {
     "data": {
      "text/html": [
       "<div>\n",
       "<style scoped>\n",
       "    .dataframe tbody tr th:only-of-type {\n",
       "        vertical-align: middle;\n",
       "    }\n",
       "\n",
       "    .dataframe tbody tr th {\n",
       "        vertical-align: top;\n",
       "    }\n",
       "\n",
       "    .dataframe thead th {\n",
       "        text-align: right;\n",
       "    }\n",
       "</style>\n",
       "<table border=\"1\" class=\"dataframe\">\n",
       "  <thead>\n",
       "    <tr style=\"text-align: right;\">\n",
       "      <th></th>\n",
       "      <th>player_api_id</th>\n",
       "      <th>penalties</th>\n",
       "    </tr>\n",
       "  </thead>\n",
       "  <tbody>\n",
       "    <tr>\n",
       "      <th>0</th>\n",
       "      <td>41269</td>\n",
       "      <td>4314.0</td>\n",
       "    </tr>\n",
       "    <tr>\n",
       "      <th>1</th>\n",
       "      <td>108808</td>\n",
       "      <td>4120.0</td>\n",
       "    </tr>\n",
       "    <tr>\n",
       "      <th>2</th>\n",
       "      <td>41890</td>\n",
       "      <td>3984.0</td>\n",
       "    </tr>\n",
       "    <tr>\n",
       "      <th>3</th>\n",
       "      <td>26472</td>\n",
       "      <td>3813.0</td>\n",
       "    </tr>\n",
       "    <tr>\n",
       "      <th>4</th>\n",
       "      <td>25772</td>\n",
       "      <td>3799.0</td>\n",
       "    </tr>\n",
       "    <tr>\n",
       "      <th>5</th>\n",
       "      <td>30731</td>\n",
       "      <td>3791.0</td>\n",
       "    </tr>\n",
       "    <tr>\n",
       "      <th>6</th>\n",
       "      <td>27734</td>\n",
       "      <td>3767.0</td>\n",
       "    </tr>\n",
       "    <tr>\n",
       "      <th>7</th>\n",
       "      <td>30626</td>\n",
       "      <td>3712.0</td>\n",
       "    </tr>\n",
       "    <tr>\n",
       "      <th>8</th>\n",
       "      <td>40930</td>\n",
       "      <td>3682.0</td>\n",
       "    </tr>\n",
       "    <tr>\n",
       "      <th>9</th>\n",
       "      <td>47394</td>\n",
       "      <td>3650.0</td>\n",
       "    </tr>\n",
       "  </tbody>\n",
       "</table>\n",
       "</div>"
      ],
      "text/plain": [
       "   player_api_id  penalties\n",
       "0          41269     4314.0\n",
       "1         108808     4120.0\n",
       "2          41890     3984.0\n",
       "3          26472     3813.0\n",
       "4          25772     3799.0\n",
       "5          30731     3791.0\n",
       "6          27734     3767.0\n",
       "7          30626     3712.0\n",
       "8          40930     3682.0\n",
       "9          47394     3650.0"
      ]
     },
     "execution_count": 43,
     "metadata": {},
     "output_type": "execute_result"
    }
   ],
   "source": [
    "#use the player_attributes table to know which id_players had the most potential\n",
    "most_penalties=df_Playerattributes.groupby('player_api_id')['penalties'].sum().reset_index()\n",
    "most_penalties_sorted=most_penalties.sort_values('penalties',ascending=False,axis=0,ignore_index=True).iloc[0:10,:]\n",
    "most_penalties_sorted"
   ]
  },
  {
   "cell_type": "code",
   "execution_count": 44,
   "metadata": {},
   "outputs": [],
   "source": [
    "#searching on names of player that had the most potential\n",
    "players_name=searching_on_names(df_Player['player_api_id'],most_penalties_sorted['player_api_id'],df_Player['player_name'])\n",
    "most_penalties_sorted.insert(2,'Player_name',players_name)"
   ]
  },
  {
   "cell_type": "code",
   "execution_count": 45,
   "metadata": {},
   "outputs": [
    {
     "data": {
      "text/plain": [
       "Text(0.5, 1.0, 'the most 10 players had penalties')"
      ]
     },
     "execution_count": 45,
     "metadata": {},
     "output_type": "execute_result"
    },
    {
     "data": {
      "image/png": "[encoded data removed]",
      "text/plain": [
       "<Figure size 1296x504 with 1 Axes>"
      ]
     },
     "metadata": {
      "needs_background": "light"
     },
     "output_type": "display_data"
    }
   ],
   "source": [
    "#print Players had the most potential\n",
    "most_penalties_sorted.plot.bar(x='Player_name',y='penalties',figsize=(18,7))\n",
    "plt.xlabel('Payers name')\n",
    "plt.ylabel('Penalties')\n",
    "plt.title('the most 10 players had penalties')"
   ]
  },
  {
   "cell_type": "markdown",
   "metadata": {},
   "source": [
    "<a id='Question3'></a>\n",
    "# Question 3-Team attributes lead to most victories"
   ]
  },
  {
   "cell_type": "code",
   "execution_count": 46,
   "metadata": {},
   "outputs": [],
   "source": [
    "#based on the best teams that i get in question 1 i print the most frequntly attributes of them.\n",
    "attributes=list()\n",
    "for team in range(len(df_Teamattributes)):\n",
    "    if df_Teamattributes['team_api_id'][team]==maximum_home['home_team_api_id'][0]:\n",
    "        attributes.append(df_Teamattributes.iloc[team,:])\n",
    "    \n",
    "df_attributes=pd.DataFrame(attributes)"
   ]
  },
  {
   "cell_type": "code",
   "execution_count": 47,
   "metadata": {},
   "outputs": [],
   "source": [
    "df_attributes.drop(columns=['id','team_fifa_api_id','team_api_id','date'],axis=1,inplace=True)"
   ]
  },
  {
   "cell_type": "code",
   "execution_count": 48,
   "metadata": {},
   "outputs": [],
   "source": [
    "#print the most frequntly attributes of best teams\n",
    "attributes_of_best_team=pd.DataFrame(df_attributes.mode().iloc[0,:])"
   ]
  },
  {
   "cell_type": "code",
   "execution_count": 49,
   "metadata": {},
   "outputs": [],
   "source": [
    "attributes_of_best_team.columns=['attributes']"
   ]
  },
  {
   "cell_type": "code",
   "execution_count": 50,
   "metadata": {},
   "outputs": [
    {
     "data": {
      "text/html": [
       "<div>\n",
       "<style scoped>\n",
       "    .dataframe tbody tr th:only-of-type {\n",
       "        vertical-align: middle;\n",
       "    }\n",
       "\n",
       "    .dataframe tbody tr th {\n",
       "        vertical-align: top;\n",
       "    }\n",
       "\n",
       "    .dataframe thead th {\n",
       "        text-align: right;\n",
       "    }\n",
       "</style>\n",
       "<table border=\"1\" class=\"dataframe\">\n",
       "  <thead>\n",
       "    <tr style=\"text-align: right;\">\n",
       "      <th></th>\n",
       "      <th>attributes</th>\n",
       "    </tr>\n",
       "  </thead>\n",
       "  <tbody>\n",
       "    <tr>\n",
       "      <th>buildUpPlaySpeed</th>\n",
       "      <td>55</td>\n",
       "    </tr>\n",
       "    <tr>\n",
       "      <th>buildUpPlaySpeedClass</th>\n",
       "      <td>Balanced</td>\n",
       "    </tr>\n",
       "    <tr>\n",
       "      <th>buildUpPlayDribbling</th>\n",
       "      <td>40</td>\n",
       "    </tr>\n",
       "    <tr>\n",
       "      <th>buildUpPlayDribblingClass</th>\n",
       "      <td>Little</td>\n",
       "    </tr>\n",
       "    <tr>\n",
       "      <th>buildUpPlayPassing</th>\n",
       "      <td>54</td>\n",
       "    </tr>\n",
       "    <tr>\n",
       "      <th>buildUpPlayPassingClass</th>\n",
       "      <td>Mixed</td>\n",
       "    </tr>\n",
       "    <tr>\n",
       "      <th>buildUpPlayPositioningClass</th>\n",
       "      <td>Organised</td>\n",
       "    </tr>\n",
       "    <tr>\n",
       "      <th>chanceCreationPassing</th>\n",
       "      <td>58</td>\n",
       "    </tr>\n",
       "    <tr>\n",
       "      <th>chanceCreationPassingClass</th>\n",
       "      <td>Normal</td>\n",
       "    </tr>\n",
       "    <tr>\n",
       "      <th>chanceCreationCrossing</th>\n",
       "      <td>73</td>\n",
       "    </tr>\n",
       "    <tr>\n",
       "      <th>chanceCreationCrossingClass</th>\n",
       "      <td>Lots</td>\n",
       "    </tr>\n",
       "    <tr>\n",
       "      <th>chanceCreationShooting</th>\n",
       "      <td>41</td>\n",
       "    </tr>\n",
       "    <tr>\n",
       "      <th>chanceCreationShootingClass</th>\n",
       "      <td>Normal</td>\n",
       "    </tr>\n",
       "    <tr>\n",
       "      <th>chanceCreationPositioningClass</th>\n",
       "      <td>Organised</td>\n",
       "    </tr>\n",
       "    <tr>\n",
       "      <th>defencePressure</th>\n",
       "      <td>51</td>\n",
       "    </tr>\n",
       "    <tr>\n",
       "      <th>defencePressureClass</th>\n",
       "      <td>Medium</td>\n",
       "    </tr>\n",
       "    <tr>\n",
       "      <th>defenceAggression</th>\n",
       "      <td>50</td>\n",
       "    </tr>\n",
       "    <tr>\n",
       "      <th>defenceAggressionClass</th>\n",
       "      <td>Press</td>\n",
       "    </tr>\n",
       "    <tr>\n",
       "      <th>defenceTeamWidth</th>\n",
       "      <td>60</td>\n",
       "    </tr>\n",
       "    <tr>\n",
       "      <th>defenceTeamWidthClass</th>\n",
       "      <td>Normal</td>\n",
       "    </tr>\n",
       "    <tr>\n",
       "      <th>defenceDefenderLineClass</th>\n",
       "      <td>Cover</td>\n",
       "    </tr>\n",
       "  </tbody>\n",
       "</table>\n",
       "</div>"
      ],
      "text/plain": [
       "                               attributes\n",
       "buildUpPlaySpeed                       55\n",
       "buildUpPlaySpeedClass            Balanced\n",
       "buildUpPlayDribbling                   40\n",
       "buildUpPlayDribblingClass          Little\n",
       "buildUpPlayPassing                     54\n",
       "buildUpPlayPassingClass             Mixed\n",
       "buildUpPlayPositioningClass     Organised\n",
       "chanceCreationPassing                  58\n",
       "chanceCreationPassingClass         Normal\n",
       "chanceCreationCrossing                 73\n",
       "chanceCreationCrossingClass          Lots\n",
       "chanceCreationShooting                 41\n",
       "chanceCreationShootingClass        Normal\n",
       "chanceCreationPositioningClass  Organised\n",
       "defencePressure                        51\n",
       "defencePressureClass               Medium\n",
       "defenceAggression                      50\n",
       "defenceAggressionClass              Press\n",
       "defenceTeamWidth                       60\n",
       "defenceTeamWidthClass              Normal\n",
       "defenceDefenderLineClass            Cover"
      ]
     },
     "execution_count": 50,
     "metadata": {},
     "output_type": "execute_result"
    }
   ],
   "source": [
    "#print the attributes that lead to most victories\n",
    "attributes_of_best_team"
   ]
  },
  {
   "cell_type": "markdown",
   "metadata": {},
   "source": [
    "<a id='Question4'></a>\n",
    "# Question 4-is there coreelation between the number of cards and the outcomes of the match ?"
   ]
  },
  {
   "cell_type": "code",
   "execution_count": 51,
   "metadata": {},
   "outputs": [],
   "source": [
    "# classified the outcomes of each team im match to ['win','lose','equality']\n",
    "home_outcomes=list()\n",
    "away_outcomes=list()\n",
    "for i in range(len(df_Match['home_team_goal'])):\n",
    "    if df_Match['home_team_goal'][i] > df_Match['away_team_goal'][i]:\n",
    "        home_outcomes.append('win')\n",
    "        away_outcomes.append('lose')\n",
    "    elif df_Match['home_team_goal'][i] < df_Match['away_team_goal'][i]:\n",
    "        away_outcomes.append('win')\n",
    "        home_outcomes.append('lose')\n",
    "    else:\n",
    "        away_outcomes.append('equality')\n",
    "        home_outcomes.append('equality')\n",
    "df_Match.insert(10,'home_outcomes',home_outcomes)\n",
    "df_Match.insert(12,'away_outcomes',away_outcomes)"
   ]
  },
  {
   "cell_type": "code",
   "execution_count": 52,
   "metadata": {},
   "outputs": [],
   "source": [
    "all_outcomes=list()\n",
    "all_cards=list()\n",
    "all_outcomes=pd.concat([df_Match['home_outcomes'],df_Match['away_outcomes']],axis=0)\n",
    "all_cards=pd.concat([df_Match['home_card'],df_Match['away_card']])"
   ]
  },
  {
   "cell_type": "code",
   "execution_count": 53,
   "metadata": {},
   "outputs": [],
   "source": [
    "df=pd.concat([all_cards,all_outcomes],axis=1)\n",
    "df['number_of_matchs']=np.repeat(1,all_cards.size)"
   ]
  },
  {
   "cell_type": "code",
   "execution_count": 54,
   "metadata": {},
   "outputs": [],
   "source": [
    "df.rename(columns={0:'all_cards',1:'all_outcomes'},inplace=True)"
   ]
  },
  {
   "cell_type": "code",
   "execution_count": 55,
   "metadata": {},
   "outputs": [],
   "source": [
    "df=df.groupby(['all_cards','all_outcomes']).count().reset_index()"
   ]
  },
  {
   "cell_type": "code",
   "execution_count": 56,
   "metadata": {},
   "outputs": [
    {
     "data": {
      "text/html": [
       "<div>\n",
       "<style scoped>\n",
       "    .dataframe tbody tr th:only-of-type {\n",
       "        vertical-align: middle;\n",
       "    }\n",
       "\n",
       "    .dataframe tbody tr th {\n",
       "        vertical-align: top;\n",
       "    }\n",
       "\n",
       "    .dataframe thead th {\n",
       "        text-align: right;\n",
       "    }\n",
       "</style>\n",
       "<table border=\"1\" class=\"dataframe\">\n",
       "  <thead>\n",
       "    <tr style=\"text-align: right;\">\n",
       "      <th></th>\n",
       "      <th>all_cards</th>\n",
       "      <th>all_outcomes</th>\n",
       "      <th>number_of_matchs</th>\n",
       "    </tr>\n",
       "  </thead>\n",
       "  <tbody>\n",
       "    <tr>\n",
       "      <th>0</th>\n",
       "      <td>0</td>\n",
       "      <td>equality</td>\n",
       "      <td>6727</td>\n",
       "    </tr>\n",
       "    <tr>\n",
       "      <th>1</th>\n",
       "      <td>0</td>\n",
       "      <td>lose</td>\n",
       "      <td>9762</td>\n",
       "    </tr>\n",
       "    <tr>\n",
       "      <th>2</th>\n",
       "      <td>0</td>\n",
       "      <td>win</td>\n",
       "      <td>10351</td>\n",
       "    </tr>\n",
       "  </tbody>\n",
       "</table>\n",
       "</div>"
      ],
      "text/plain": [
       "   all_cards all_outcomes  number_of_matchs\n",
       "0          0     equality              6727\n",
       "1          0         lose              9762\n",
       "2          0          win             10351"
      ]
     },
     "execution_count": 56,
     "metadata": {},
     "output_type": "execute_result"
    }
   ],
   "source": [
    "df.head(3)"
   ]
  },
  {
   "cell_type": "code",
   "execution_count": 57,
   "metadata": {},
   "outputs": [],
   "source": [
    "#convert the values of all_outcomes column to columns and their values are the number of times reapeted in each card_number\n",
    "cards_outcomes=df.pivot_table(index='all_cards',columns='all_outcomes',values='number_of_matchs')"
   ]
  },
  {
   "cell_type": "code",
   "execution_count": 58,
   "metadata": {},
   "outputs": [
    {
     "data": {
      "text/html": [
       "<div>\n",
       "<style scoped>\n",
       "    .dataframe tbody tr th:only-of-type {\n",
       "        vertical-align: middle;\n",
       "    }\n",
       "\n",
       "    .dataframe tbody tr th {\n",
       "        vertical-align: top;\n",
       "    }\n",
       "\n",
       "    .dataframe thead th {\n",
       "        text-align: right;\n",
       "    }\n",
       "</style>\n",
       "<table border=\"1\" class=\"dataframe\">\n",
       "  <thead>\n",
       "    <tr style=\"text-align: right;\">\n",
       "      <th></th>\n",
       "      <th>equality</th>\n",
       "      <th>lose</th>\n",
       "      <th>win</th>\n",
       "    </tr>\n",
       "    <tr>\n",
       "      <th>all_cards</th>\n",
       "      <th></th>\n",
       "      <th></th>\n",
       "      <th></th>\n",
       "    </tr>\n",
       "  </thead>\n",
       "  <tbody>\n",
       "    <tr>\n",
       "      <th>0</th>\n",
       "      <td>6727.0</td>\n",
       "      <td>9762.0</td>\n",
       "      <td>10351.0</td>\n",
       "    </tr>\n",
       "    <tr>\n",
       "      <th>1</th>\n",
       "      <td>1655.0</td>\n",
       "      <td>2260.0</td>\n",
       "      <td>2990.0</td>\n",
       "    </tr>\n",
       "    <tr>\n",
       "      <th>2</th>\n",
       "      <td>1978.0</td>\n",
       "      <td>2890.0</td>\n",
       "      <td>2755.0</td>\n",
       "    </tr>\n",
       "    <tr>\n",
       "      <th>3</th>\n",
       "      <td>1468.0</td>\n",
       "      <td>2245.0</td>\n",
       "      <td>1864.0</td>\n",
       "    </tr>\n",
       "    <tr>\n",
       "      <th>4</th>\n",
       "      <td>841.0</td>\n",
       "      <td>1336.0</td>\n",
       "      <td>871.0</td>\n",
       "    </tr>\n",
       "    <tr>\n",
       "      <th>5</th>\n",
       "      <td>375.0</td>\n",
       "      <td>569.0</td>\n",
       "      <td>381.0</td>\n",
       "    </tr>\n",
       "    <tr>\n",
       "      <th>6</th>\n",
       "      <td>114.0</td>\n",
       "      <td>223.0</td>\n",
       "      <td>126.0</td>\n",
       "    </tr>\n",
       "    <tr>\n",
       "      <th>7</th>\n",
       "      <td>24.0</td>\n",
       "      <td>70.0</td>\n",
       "      <td>30.0</td>\n",
       "    </tr>\n",
       "    <tr>\n",
       "      <th>8</th>\n",
       "      <td>6.0</td>\n",
       "      <td>16.0</td>\n",
       "      <td>13.0</td>\n",
       "    </tr>\n",
       "    <tr>\n",
       "      <th>9</th>\n",
       "      <td>4.0</td>\n",
       "      <td>8.0</td>\n",
       "      <td>2.0</td>\n",
       "    </tr>\n",
       "    <tr>\n",
       "      <th>10</th>\n",
       "      <td>0.0</td>\n",
       "      <td>2.0</td>\n",
       "      <td>0.0</td>\n",
       "    </tr>\n",
       "    <tr>\n",
       "      <th>11</th>\n",
       "      <td>0.0</td>\n",
       "      <td>1.0</td>\n",
       "      <td>0.0</td>\n",
       "    </tr>\n",
       "    <tr>\n",
       "      <th>12</th>\n",
       "      <td>0.0</td>\n",
       "      <td>1.0</td>\n",
       "      <td>0.0</td>\n",
       "    </tr>\n",
       "  </tbody>\n",
       "</table>\n",
       "</div>"
      ],
      "text/plain": [
       "           equality    lose      win\n",
       "all_cards                           \n",
       "0            6727.0  9762.0  10351.0\n",
       "1            1655.0  2260.0   2990.0\n",
       "2            1978.0  2890.0   2755.0\n",
       "3            1468.0  2245.0   1864.0\n",
       "4             841.0  1336.0    871.0\n",
       "5             375.0   569.0    381.0\n",
       "6             114.0   223.0    126.0\n",
       "7              24.0    70.0     30.0\n",
       "8               6.0    16.0     13.0\n",
       "9               4.0     8.0      2.0\n",
       "10              0.0     2.0      0.0\n",
       "11              0.0     1.0      0.0\n",
       "12              0.0     1.0      0.0"
      ]
     },
     "execution_count": 58,
     "metadata": {},
     "output_type": "execute_result"
    }
   ],
   "source": [
    "#rename the columns\n",
    "cards_outcomes.columns=['equality','lose','win']\n",
    "cards_outcomes.fillna(0,inplace=True)\n",
    "cards_outcomes"
   ]
  },
  {
   "cell_type": "code",
   "execution_count": 59,
   "metadata": {},
   "outputs": [
    {
     "data": {
      "text/plain": [
       "Text(0, 0.5, 'Match_Outcomes')"
      ]
     },
     "execution_count": 59,
     "metadata": {},
     "output_type": "execute_result"
    },
    {
     "data": {
      "image/png": "[encoded data removed]",
      "text/plain": [
       "<Figure size 1440x432 with 1 Axes>"
      ]
     },
     "metadata": {
      "needs_background": "light"
     },
     "output_type": "display_data"
    }
   ],
   "source": [
    "#show the relationship \n",
    "cards_outcomes.plot(kind='bar',figsize=(20,6))\n",
    "plt.title('Relationship between number of cards and outcomes of the match')\n",
    "plt.xlabel('Cards_Number')\n",
    "plt.ylabel('Match_Outcomes')"
   ]
  },
  {
   "cell_type": "markdown",
   "metadata": {},
   "source": [
    "<a id='Question5'></a>\n",
    "# Question 5-what the top 6 players in 2016 ?"
   ]
  },
  {
   "cell_type": "code",
   "execution_count": 60,
   "metadata": {},
   "outputs": [],
   "source": [
    "# convert the date column to datetime to extract the year\n",
    "df_Playerattributes['date']=pd.to_datetime(df_Playerattributes['date'])\n",
    "df_Playerattributes['year']=df_Playerattributes['date'].dt.year"
   ]
  },
  {
   "cell_type": "code",
   "execution_count": 61,
   "metadata": {},
   "outputs": [],
   "source": [
    "#filter the table of player attributes in 2016 \n",
    "df_in_2016=df_Playerattributes.query('year==2016')\n",
    "all_ids=df_in_2016.groupby('player_api_id')['overall_rating'].mean().reset_index()"
   ]
  },
  {
   "cell_type": "code",
   "execution_count": 62,
   "metadata": {},
   "outputs": [],
   "source": [
    "all_ids.sort_values(ascending=False,inplace=True,by=\"overall_rating\",ignore_index=True)\n",
    "all_ids=all_ids.iloc[0:6,:]\n"
   ]
  },
  {
   "cell_type": "code",
   "execution_count": 63,
   "metadata": {},
   "outputs": [],
   "source": [
    "#searching on the name of the 6 top players in 2016 based on ids \n",
    "name_of_player=searching_on_names(df_Player['player_api_id'],all_ids['player_api_id'],df_Player['player_name'])\n",
    "all_ids.insert(1,'player_name',name_of_player)\n",
    "the_top_6=all_ids"
   ]
  },
  {
   "cell_type": "code",
   "execution_count": 64,
   "metadata": {},
   "outputs": [
    {
     "data": {
      "text/html": [
       "<div>\n",
       "<style scoped>\n",
       "    .dataframe tbody tr th:only-of-type {\n",
       "        vertical-align: middle;\n",
       "    }\n",
       "\n",
       "    .dataframe tbody tr th {\n",
       "        vertical-align: top;\n",
       "    }\n",
       "\n",
       "    .dataframe thead th {\n",
       "        text-align: right;\n",
       "    }\n",
       "</style>\n",
       "<table border=\"1\" class=\"dataframe\">\n",
       "  <thead>\n",
       "    <tr style=\"text-align: right;\">\n",
       "      <th></th>\n",
       "      <th>player_api_id</th>\n",
       "      <th>player_name</th>\n",
       "      <th>overall_rating</th>\n",
       "    </tr>\n",
       "  </thead>\n",
       "  <tbody>\n",
       "    <tr>\n",
       "      <th>0</th>\n",
       "      <td>27299</td>\n",
       "      <td>Manuel Neuer</td>\n",
       "      <td>90.0</td>\n",
       "    </tr>\n",
       "    <tr>\n",
       "      <th>1</th>\n",
       "      <td>19533</td>\n",
       "      <td>Neymar</td>\n",
       "      <td>90.0</td>\n",
       "    </tr>\n",
       "    <tr>\n",
       "      <th>2</th>\n",
       "      <td>30834</td>\n",
       "      <td>Arjen Robben</td>\n",
       "      <td>89.0</td>\n",
       "    </tr>\n",
       "    <tr>\n",
       "      <th>3</th>\n",
       "      <td>37412</td>\n",
       "      <td>Sergio Aguero</td>\n",
       "      <td>88.0</td>\n",
       "    </tr>\n",
       "    <tr>\n",
       "      <th>4</th>\n",
       "      <td>36378</td>\n",
       "      <td>Mesut Oezil</td>\n",
       "      <td>88.0</td>\n",
       "    </tr>\n",
       "    <tr>\n",
       "      <th>5</th>\n",
       "      <td>107417</td>\n",
       "      <td>Eden Hazard</td>\n",
       "      <td>88.0</td>\n",
       "    </tr>\n",
       "  </tbody>\n",
       "</table>\n",
       "</div>"
      ],
      "text/plain": [
       "   player_api_id    player_name  overall_rating\n",
       "0          27299   Manuel Neuer            90.0\n",
       "1          19533         Neymar            90.0\n",
       "2          30834   Arjen Robben            89.0\n",
       "3          37412  Sergio Aguero            88.0\n",
       "4          36378    Mesut Oezil            88.0\n",
       "5         107417    Eden Hazard            88.0"
      ]
     },
     "execution_count": 64,
     "metadata": {},
     "output_type": "execute_result"
    }
   ],
   "source": [
    "#print the top 6 players in 2016\n",
    "the_top_6"
   ]
  },
  {
   "cell_type": "markdown",
   "metadata": {},
   "source": [
    "<a id='conclusions'></a>\n",
    "## Conclusions\n",
    "\n"
   ]
  },
  {
   "cell_type": "markdown",
   "metadata": {},
   "source": [
    "### 1-the data set i used is *European Soccer Dataset* that contains 8 tables ,, there are relationships among them, to get these tables from sqlite database i maked a connection then wrote query to extract each table and load it in a Datafram.\n",
    "### 2-maked assessing on each table to understand an discover the the dirty and messy data.\n",
    "### 3-cleaning match table ,, removed the columns that i won't use and maked parsing for card column for each team in the match then, i removed the sqlitesequence table because i wouldn't use it.\n",
    "### 4- exploratory data analysis section , i have 5 questions to analysis them,,i described them in a pdf"
   ]
  },
  {
   "cell_type": "markdown",
   "metadata": {},
   "source": [
    "# References\n",
    "https://www.kaggle.com\n",
    "\n",
    "https://pandas.pydata.org/docs\n",
    "\n",
    "https://www.youtube.com/watch?v=E7aY1XJX1og\n",
    "\n",
    "https://www.kaggle.com/hugomathien/soccer/discussion/80756"
   ]
  }
 ],
 "metadata": {
  "kernelspec": {
   "display_name": "Python 3",
   "language": "python",
   "name": "python3"
  },
  "language_info": {
   "codemirror_mode": {
    "name": "ipython",
    "version": 3
   },
   "file_extension": ".py",
   "mimetype": "text/x-python",
   "name": "python",
   "nbconvert_exporter": "python",
   "pygments_lexer": "ipython3",
   "version": "3.6.11"
  }
 },
 "nbformat": 4,
 "nbformat_minor": 4
}
